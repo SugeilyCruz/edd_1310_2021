{
  "nbformat": 4,
  "nbformat_minor": 0,
  "metadata": {
    "colab": {
      "name": "1octubre_1310.ipynb",
      "provenance": [],
      "authorship_tag": "ABX9TyM46TUq0yk+kuBzmKWw84k9",
      "include_colab_link": true
    },
    "kernelspec": {
      "name": "python3",
      "display_name": "Python 3"
    }
  },
  "cells": [
    {
      "cell_type": "markdown",
      "metadata": {
        "id": "view-in-github",
        "colab_type": "text"
      },
      "source": [
        "<a href=\"https://colab.research.google.com/github/SugeilyCruz/edd_1310_2021/blob/master/1octubre_1310.ipynb\" target=\"_parent\"><img src=\"https://colab.research.google.com/assets/colab-badge.svg\" alt=\"Open In Colab\"/></a>"
      ]
    },
    {
      "cell_type": "markdown",
      "metadata": {
        "id": "HXo3b_Zk7ruc"
      },
      "source": [
        "##Intro Phthom\n",
        "variables --> snake case = nombre_completo\n",
        "\n",
        "\n"
      ]
    },
    {
      "cell_type": "code",
      "metadata": {
        "id": "b5WvWziz7eRD",
        "outputId": "54e52f48-ee20-413c-889d-3ab122de3117",
        "colab": {
          "base_uri": "https://localhost:8080/",
          "height": 187
        }
      },
      "source": [
        "escuela = \"FES Aragón\"\n",
        "print(escuela)\n",
        "print(\"---------\")\n",
        "edad = 13\n",
        "estatura = 1.67\n",
        "fumador = True\n",
        "frase = \"\"\"\n",
        "Esta es \n",
        "una \n",
        "frase\n",
        "de multiples líneas\n",
        "y tambien es\n",
        "un tipo de dato\n",
        "\"\"\"\n",
        "print(frase)\n",
        "nombre = 'jose'\n",
        "nombre_completo = \"jose sosa cardenas\""
      ],
      "execution_count": 3,
      "outputs": [
        {
          "output_type": "stream",
          "text": [
            "FES Aragón\n",
            "---------\n",
            "\n",
            "Esta es \n",
            "una \n",
            "frase\n",
            "de multiples líneas\n",
            "y tambien es\n",
            "un tipo de dato\n",
            "\n"
          ],
          "name": "stdout"
        }
      ]
    },
    {
      "cell_type": "markdown",
      "metadata": {
        "id": "kOSWosls940q"
      },
      "source": [
        "#Print\n",
        "con comas,\n",
        "con signo mas +\n",
        "con format ()\n",
        "con el operador f\""
      ]
    },
    {
      "cell_type": "code",
      "metadata": {
        "id": "q1X30oTf-zgx",
        "outputId": "cd8bdb1a-34a9-40e7-c123-d50c9a0ef731",
        "colab": {
          "base_uri": "https://localhost:8080/",
          "height": 34
        }
      },
      "source": [
        "#, Separa, pone un espacio entre las variables.\n",
        "print(nombre, edad)"
      ],
      "execution_count": 4,
      "outputs": [
        {
          "output_type": "stream",
          "text": [
            "jose 13\n"
          ],
          "name": "stdout"
        }
      ]
    },
    {
      "cell_type": "code",
      "metadata": {
        "id": "zVBXEwkt_CQ1",
        "outputId": "06522fee-4a89-4c72-81bd-24321b622910",
        "colab": {
          "base_uri": "https://localhost:8080/",
          "height": 51
        }
      },
      "source": [
        "#El + concatena cadenas (string) y no pone un espacio.\n",
        "print(nombre + str(edad))\n",
        "print (nombre +\" \"+ nombre_completo) "
      ],
      "execution_count": 11,
      "outputs": [
        {
          "output_type": "stream",
          "text": [
            "jose13\n",
            "jose jose sosa cardenas\n"
          ],
          "name": "stdout"
        }
      ]
    },
    {
      "cell_type": "code",
      "metadata": {
        "id": "ON2V9t8iAIsH",
        "outputId": "baa8b826-5bef-4b92-ae1e-e79ad242b2af",
        "colab": {
          "base_uri": "https://localhost:8080/",
          "height": 51
        }
      },
      "source": [
        "#print con formato ---> Su nombre es Jose y su edad es de 13 años.\n",
        "print(\"su nombre es\",nombre,\"y su edad es de\",edad,\"años.\")\n",
        "print(\"Su nombre es {0} y su edad es de {1} años.\".format(nombre, edad) )#----> con format\n",
        "print(\"Su nombre es {1} y su edad es de {0} años.\".format(nombre, edad) )"
      ],
      "execution_count": 15,
      "outputs": [
        {
          "output_type": "stream",
          "text": [
            "su nombre es jose y su edad es de 13 años.\n",
            "Su nombre es jose y su edad es de 13 años\n"
          ],
          "name": "stdout"
        }
      ]
    },
    {
      "cell_type": "code",
      "metadata": {
        "id": "_UwaZ7eXBvEZ",
        "outputId": "150b6261-b372-44c7-8922-540dbc7d3262",
        "colab": {
          "base_uri": "https://localhost:8080/",
          "height": 34
        }
      },
      "source": [
        "#Con formato con el operador f\"\"\n",
        "print(f\"Su nombre es \\\"{nombre}\\\" y su edad es de {edad} años.\")"
      ],
      "execution_count": 18,
      "outputs": [
        {
          "output_type": "stream",
          "text": [
            "Su nombre es \"jose\" y su edad es de 13 años.\n"
          ],
          "name": "stdout"
        }
      ]
    },
    {
      "cell_type": "markdown",
      "metadata": {
        "id": "I0QGtjTzCOxj"
      },
      "source": [
        "#Caracter de escape\n",
        "\\n salto de linea \n",
        "\\t tabulador\n",
        "\\a beep\n",
        "\\\" imprimir comilla doble\n",
        "\\' imprimir comilla simple\n"
      ]
    },
    {
      "cell_type": "code",
      "metadata": {
        "id": "n6ZV7AR0DaK0",
        "outputId": "76e48ea7-6794-427c-b772-0bec80a3a5d0",
        "colab": {
          "base_uri": "https://localhost:8080/",
          "height": 51
        }
      },
      "source": [
        "\"\"\"\n",
        "Esto es un ocmentario de multiple\n",
        "linea\n",
        " \"\"\"\n",
        "print(f\"\\tMi nombre es\\n\\t\\t {nombre}\")"
      ],
      "execution_count": 21,
      "outputs": [
        {
          "output_type": "stream",
          "text": [
            "\tMi nombre es\n",
            "\t\t jose\n"
          ],
          "name": "stdout"
        }
      ]
    },
    {
      "cell_type": "markdown",
      "metadata": {
        "id": "oUm-KxHTD7pv"
      },
      "source": [
        "#Ayuda de tipos de datos en python\n",
        "dir()\n",
        "help()"
      ]
    },
    {
      "cell_type": "code",
      "metadata": {
        "id": "0rc46NieEWBt"
      },
      "source": [
        "#str, int, float, bool ... list, dict, set\n",
        "#dir(str) #cuando ya los he usado\n",
        "help(str) #los que tienen _no lo podemos ocupar."
      ],
      "execution_count": null,
      "outputs": []
    },
    {
      "cell_type": "code",
      "metadata": {
        "id": "xVPi0XE8FOyV",
        "outputId": "12de5d88-bbc4-47b1-af13-fa24b069f406",
        "colab": {
          "base_uri": "https://localhost:8080/",
          "height": 51
        }
      },
      "source": [
        "\n",
        "print(nombre_completo.capitalize())\n",
        "print(nombre_completo.upper(), end=\"----\")\n",
        "print(nombre_completo.title())"
      ],
      "execution_count": 33,
      "outputs": [
        {
          "output_type": "stream",
          "text": [
            "Jose sosa cardenas\n",
            "JOSE SOSA CARDENAS----Jose Sosa Cardenas\n"
          ],
          "name": "stdout"
        }
      ]
    },
    {
      "cell_type": "code",
      "metadata": {
        "id": "wCVEPeIBGCyf",
        "outputId": "75bbef47-5440-4e59-edac-07d8ce3d0f3f",
        "colab": {
          "base_uri": "https://localhost:8080/",
          "height": 221
        }
      },
      "source": [
        "help(print)"
      ],
      "execution_count": 32,
      "outputs": [
        {
          "output_type": "stream",
          "text": [
            "Help on built-in function print in module builtins:\n",
            "\n",
            "print(...)\n",
            "    print(value, ..., sep=' ', end='\\n', file=sys.stdout, flush=False)\n",
            "    \n",
            "    Prints the values to a stream, or to sys.stdout by default.\n",
            "    Optional keyword arguments:\n",
            "    file:  a file-like object (stream); defaults to the current sys.stdout.\n",
            "    sep:   string inserted between values, default a space.\n",
            "    end:   string appended after the last value, default a newline.\n",
            "    flush: whether to forcibly flush the stream.\n",
            "\n"
          ],
          "name": "stdout"
        }
      ]
    },
    {
      "cell_type": "markdown",
      "metadata": {
        "id": "vkQepeooHWX4"
      },
      "source": [
        "#Clase String\n",
        "Es maneja como un arreglo (c o java) o lista (python)\n"
      ]
    },
    {
      "cell_type": "code",
      "metadata": {
        "id": "Klfj4jpjHwix",
        "outputId": "c0390ed0-9677-445c-a125-3d1e275c578e",
        "colab": {
          "base_uri": "https://localhost:8080/",
          "height": 68
        }
      },
      "source": [
        "telefono=\"Huawei mate 30 pro\"\n",
        "print(telefono[0])\n",
        "print(telefono[5])\n",
        "print(telefono[7])"
      ],
      "execution_count": 35,
      "outputs": [
        {
          "output_type": "stream",
          "text": [
            "H\n",
            "i\n",
            "m\n"
          ],
          "name": "stdout"
        }
      ]
    },
    {
      "cell_type": "markdown",
      "metadata": {
        "id": "1FAQmIgCIJN8"
      },
      "source": [
        "#Slicing (rebanado)\n",
        "[ini:stop:incremento] --->como un for pero mas facil\n"
      ]
    },
    {
      "cell_type": "code",
      "metadata": {
        "id": "AqmA4y7MIcQa",
        "outputId": "f599b081-b12a-4341-cfa0-216ac1576a5e",
        "colab": {
          "base_uri": "https://localhost:8080/",
          "height": 119
        }
      },
      "source": [
        "print(telefono[7:11:1]) #11 por que le agregamos el stop. \n",
        "#El inicio y el incremento son opcionales.\n",
        "#El valos por defecto de incremento es 1.\n",
        "print(telefono[:11:]) \n",
        "#El valos por defecto de stop es len(str).\n",
        "print(telefono[::]) \n",
        "#incremento negativo\n",
        "print(telefono[::-1])\n",
        "#cuenta dede o como 0\n",
        "print(telefono[-3::1])\n",
        "#slacing negativo\n",
        "ini=-3\n",
        "inc=1\n",
        "print(telefono[ini::inc])"
      ],
      "execution_count": 46,
      "outputs": [
        {
          "output_type": "stream",
          "text": [
            "mate\n",
            "Huawei mate\n",
            "Huawei mate 30 pro\n",
            "orp 03 etam iewauH\n",
            "pro\n",
            "pro\n"
          ],
          "name": "stdout"
        }
      ]
    },
    {
      "cell_type": "markdown",
      "metadata": {
        "id": "VPyzAmYkNQUL"
      },
      "source": [
        "#Metodos de String(str)\n",
        "Existen metodos muy utiles en esta clase."
      ]
    },
    {
      "cell_type": "code",
      "metadata": {
        "id": "zRaY3YBiNYiZ",
        "outputId": "90fb192f-bf9f-4d82-b92c-4f4d8d14df8a",
        "colab": {
          "base_uri": "https://localhost:8080/",
          "height": 340
        }
      },
      "source": [
        "facultad= \"    facultad de estudios superiores aragon      \\n\"\n",
        "print(facultad)\n",
        "print(facultad.count(\" \"))#cuantos espacios hay.\n",
        "print(facultad.count(\"u\"))#cuantas u //cuenta el numero de lementos en la cadena.\n",
        "print(facultad.find(\"s\"))#busca el indice de la primera coincidencia.\n",
        "print(facultad.index(\"l\"))#es parecido al find.\n",
        "print(facultad.strip())#remueve los espacios en blanco, los saltos de linea\n",
        "tamanio=len(facultad)\n",
        "print(len(facultad))#el numero de caracteres de un string(tamanio)\n",
        "print(facultad.split(\"t\"))#separa dependiendo el caracter que le des.\n",
        "print(facultad.strip().split(\" \"))#quito los espacios y luego separa las palabras.\n",
        "\n",
        "print(\"------------------------------------\")\n",
        "#copiar cadenas\n",
        "otra_cadena= facultad\n",
        "print(otra_cadena)\n",
        "otra_cadena =\"FES Aragon\"\n",
        "print(facultad)\n",
        "print(otra_cadena)\n",
        "\n",
        "#copiar listas \n",
        "colores=[\"rojo\",\"verde\"]#creo una lista.\n",
        "#otra =colores---> si le pones sin copy, y luego le agregamos algo, entonces cambia en el espacio de memoria, cambiarian los dos.\n",
        "otra =colores.copy()\n",
        "print(colores)\n",
        "otra.append(\"rosa\")#agregar rosa.\n",
        "print(colores)\n",
        "print(otra)"
      ],
      "execution_count": 81,
      "outputs": [
        {
          "output_type": "stream",
          "text": [
            "    facultad de estudios superiores aragon      \n",
            "\n",
            "14\n",
            "3\n",
            "17\n",
            "8\n",
            "facultad de estudios superiores aragon\n",
            "49\n",
            "['    facul', 'ad de es', 'udios superiores aragon      \\n']\n",
            "['facultad', 'de', 'estudios', 'superiores', 'aragon']\n",
            "------------------------------------\n",
            "    facultad de estudios superiores aragon      \n",
            "\n",
            "    facultad de estudios superiores aragon      \n",
            "\n",
            "FES Aragon\n",
            "['rojo', 'verde']\n",
            "['rojo', 'verde']\n",
            "['rojo', 'verde', 'rosa']\n"
          ],
          "name": "stdout"
        }
      ]
    }
  ]
}