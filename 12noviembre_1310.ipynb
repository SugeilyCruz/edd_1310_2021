{
  "nbformat": 4,
  "nbformat_minor": 0,
  "metadata": {
    "colab": {
      "name": "12noviembre_1310.ipynb",
      "provenance": [],
      "collapsed_sections": [],
      "authorship_tag": "ABX9TyN5wyh1uWg74NsPsdQfi77f",
      "include_colab_link": true
    },
    "kernelspec": {
      "name": "python3",
      "display_name": "Python 3"
    }
  },
  "cells": [
    {
      "cell_type": "markdown",
      "metadata": {
        "id": "view-in-github",
        "colab_type": "text"
      },
      "source": [
        "<a href=\"https://colab.research.google.com/github/SugeilyCruz/edd_1310_2021/blob/master/12noviembre_1310.ipynb\" target=\"_parent\"><img src=\"https://colab.research.google.com/assets/colab-badge.svg\" alt=\"Open In Colab\"/></a>"
      ]
    },
    {
      "cell_type": "code",
      "metadata": {
        "id": "_dmwWikbLRAP"
      },
      "source": [
        "class Nodo:\n",
        "    def __init__( self , dato ):\n",
        "        self.__dato = dato\n",
        "        self.__siguiente = None\n",
        "\n",
        "    def get_dato( self ):\n",
        "        return self.__dato\n",
        "\n",
        "    def set_dato( self , d ):\n",
        "        self.__dato = d\n",
        "\n",
        "    def get_siguiente( self ):\n",
        "        return self.__siguiente\n",
        "\n",
        "    def set_siguiente( self , d ):\n",
        "        self.__siguiente = d\n",
        "\n",
        "    def show( self ):\n",
        "        curr_node = self # Head\n",
        "        print(\" Inicio de la estructura ligada:\")\n",
        "        print(\"|\" + str(curr_node.get_dato()) + \"| -->\" , end =\"\" )\n",
        "        while( curr_node.get_siguiente() != None ):\n",
        "            curr_node = curr_node.get_siguiente()\n",
        "            print(\"|\" + str(curr_node.get_dato() ) + \"| -->\" , end =\"\" )\n",
        "        print(\"\\nFin\")\n",
        "\n",
        "# Ejemplo 1\n",
        "a = Nodo( 10 )\n",
        "\n",
        "\n",
        "# ejemplo 2\n",
        "\n",
        "a.set_siguiente( Nodo(20) )\n",
        "a.show()\n",
        "\n",
        "\n",
        "#Ejemplo 3\n",
        "\n",
        "a.get_siguiente().set_siguiente(Nodo (30))\n",
        "a.show()\n",
        "\n",
        "#Ejemplo 4\n",
        "a.get_siguiente().get_siguiente().set_siguiente(Nodo(40))\n",
        "a.show()\n",
        "\n",
        "#eJEMPLO 5\n",
        "a.get_siguiente().get_siguiente().get_siguiente().set_siguiente(Nodo(50))\n",
        "a.show()\n",
        "\n",
        "#cambiando Valores\n",
        "\n",
        "# ejemplo 6\n",
        "a.set_dato(12)\n",
        "a.show()\n",
        "\n",
        "# ejemplo 7\n",
        "\n",
        "a.get_siguiente().get_siguiente().get_siguiente().set_dato(46)\n",
        "a.show()\n",
        "\n",
        "#Ejemplo 8\n",
        "a.get_siguiente().set_dato(25)\n",
        "a.show()\n",
        "\n",
        "a.get_siguiente().get_siguiente().get_siguiente().set_siguiente(None)\n",
        "a.show()"
      ],
      "execution_count": null,
      "outputs": []
    },
    {
      "cell_type": "code",
      "metadata": {
        "id": "b6a6zb2ZecZ-",
        "outputId": "62dd0a03-77e3-47ca-cb75-3eeb3d9f8384",
        "colab": {
          "base_uri": "https://localhost:8080/"
        }
      },
      "source": [
        "class Nodo:#Los desencapsulamos para poder borrar, cambiar etc mas facil, no sean privados.\n",
        "    def __init__( self , dato ):\n",
        "        self.dato = dato\n",
        "        self.siguiente = None\n",
        "\n",
        "#ejemplo 1\n",
        "a= Nodo(12)\n",
        "print(a.dato)\n",
        "#print(a.siguiente)\n",
        "\n",
        "#Empieza agregar mas elementos\n",
        "#Ejemplo 2\n",
        "a.siguiente=Nodo(20)\n",
        "\n",
        "#Ejemplo 3\n",
        "a.siguiente.siguiente= Nodo(30)\n",
        "\n",
        "#Ejemplo 4\n",
        "a.siguiente.siguiente.siguiente= Nodo(40)\n",
        "\n",
        "#Ejemplo 5\n",
        "a.siguiente.siguiente.siguiente.siguiente=Nodo(50)\n",
        "\n",
        "#Ejemplo 6 Eliminando nodo 30 \n",
        "a.siguiente.siguiente=a.siguiente.siguiente.siguiente # del nodo 20, lo apaunta al 40(el = es como siguiente)\n",
        "\n",
        "#Ejemplo 7 Cambiar un dato\n",
        "a.siguiente.siguiente.dato= 45\n",
        "\n",
        "#Ejemplo 8 Insertar un dato entre dos.\n",
        "tmp= a.siguiente.siguiente.siguiente#Respaldo mi nodo 50, para que no se pierda\n",
        "a.siguiente.siguiente.siguiente=Nodo(48) #creo mi nuevo nodo\n",
        "a.siguiente.siguiente.siguiente.siguiente= tmp #vuelvo agregar mi nodo 50\n",
        "\n",
        "#Corrido Transversal\n",
        "curr_node=a\n",
        "print(curr_node.dato, \"==>\", end=\"\")\n",
        "while(curr_node.siguiente != None):\n",
        "    curr_node = curr_node.siguiente\n",
        "    print(curr_node.dato,\"==>\",end=\"\")\n",
        "print(\"\")"
      ],
      "execution_count": 1,
      "outputs": [
        {
          "output_type": "stream",
          "text": [
            "12\n",
            "12 ==>20 ==>45 ==>48 ==>50 ==>\n"
          ],
          "name": "stdout"
        }
      ]
    },
    {
      "cell_type": "code",
      "metadata": {
        "id": "cQMY3Oh_zBU1",
        "outputId": "b795a3e8-3ea9-4ab6-ab7f-352665246f8c",
        "colab": {
          "base_uri": "https://localhost:8080/"
        }
      },
      "source": [
        "class Nodo:  # Agregar nodos sin .siguiente\n",
        "    def __init__(self, dato,sig=None):\n",
        "        self.dato = dato\n",
        "        self.siguiente = sig\n",
        "\n",
        "# EJEMPLO 1\n",
        "a = Nodo(10)\n",
        "# EJEMPLO 2 RECONSTRUCCION\n",
        "a = Nodo(10, Nodo(20))\n",
        "a = Nodo(10, Nodo(20, Nodo(30)))\n",
        "a = Nodo(10, Nodo(20, Nodo(30, Nodo(40))))\n",
        "a = Nodo(10, Nodo(20, Nodo(30, Nodo(40, Nodo(50)))))\n",
        "\n",
        "# Corrido Transversal\n",
        "curr_node = a\n",
        "print(curr_node.dato, \"==>\", end=\"\")\n",
        "while(curr_node.siguiente != None):\n",
        "    curr_node = curr_node.siguiente\n",
        "    print(curr_node.dato, \"==>\", end=\"\")\n",
        "print(\"\")"
      ],
      "execution_count": 2,
      "outputs": [
        {
          "output_type": "stream",
          "text": [
            "10 ==>20 ==>30 ==>40 ==>50 ==>\n"
          ],
          "name": "stdout"
        }
      ]
    }
  ]
}