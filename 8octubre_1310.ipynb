{
  "nbformat": 4,
  "nbformat_minor": 0,
  "metadata": {
    "colab": {
      "name": "8octubre_1310.ipynb",
      "provenance": [],
      "authorship_tag": "ABX9TyPKRtEoOE6aibVCY7uyQg11",
      "include_colab_link": true
    },
    "kernelspec": {
      "name": "python3",
      "display_name": "Python 3"
    }
  },
  "cells": [
    {
      "cell_type": "markdown",
      "metadata": {
        "id": "view-in-github",
        "colab_type": "text"
      },
      "source": [
        "<a href=\"https://colab.research.google.com/github/SugeilyCruz/edd_1310_2021/blob/master/8octubre_1310.ipynb\" target=\"_parent\"><img src=\"https://colab.research.google.com/assets/colab-badge.svg\" alt=\"Open In Colab\"/></a>"
      ]
    },
    {
      "cell_type": "code",
      "metadata": {
        "id": "Ik3jzzPx_Ong",
        "outputId": "21ffa911-5123-4def-e416-3885f08a4da3",
        "colab": {
          "base_uri": "https://localhost:8080/",
          "height": 139
        }
      },
      "source": [
        "monitores =[[\"Samsung\",\"17.3 \\\"\",1024],[\"BenQ\",\"40\\\"\",2048]]\n",
        "procesadores = [[\"Intel\",\"i7\",3.4],[\"AMD\",\"razzer\",3.3],[\"Intel\",\"i3\",3.1]]\n",
        "memorias = [[\"Kingston\", \"8GB\",\"DDR4\"],[\"Kingston\", \"16GB\",\"DDR3\"],[\"ADATA\", \"32GB\",\"DDR4\"]]\n",
        "\n",
        "componentes = [monitores,procesadores,memorias]\n",
        "print(componentes)\n",
        "print(componentes[1])\n",
        "print(componentes[2][1][1])\n",
        "print(int(componentes[0][1][2])*2)\n",
        "print(componentes[1][1][1][1:4:1])\n",
        "print(componentes[2][2][0].lower())"
      ],
      "execution_count": 14,
      "outputs": [
        {
          "output_type": "stream",
          "text": [
            "[[['Samsung', '17.3 \"', 1024], ['BenQ', '40\"', 2048]], [['Intel', 'i7', 3.4], ['AMD', 'razzer', 3.3], ['Intel', 'i3', 3.1]], [['Kingston', '8GB', 'DDR4'], ['Kingston', '16GB', 'DDR3'], ['ADATA', '32GB', 'DDR4']]]\n",
            "[['Intel', 'i7', 3.4], ['AMD', 'razzer', 3.3], ['Intel', 'i3', 3.1]]\n",
            "16GB\n",
            "4096\n",
            "azz\n",
            "adata\n"
          ],
          "name": "stdout"
        }
      ]
    },
    {
      "cell_type": "code",
      "metadata": {
        "id": "_oVXI4sWI8Gn",
        "outputId": "8fd58344-d15d-4c61-dab9-90b4986c13e2",
        "colab": {
          "base_uri": "https://localhost:8080/",
          "height": 204
        }
      },
      "source": [
        "#copiar lista\n",
        "#extender lista\n",
        "frutas =[\"manzana\",\"pera\"]\n",
        "otras_frutas = [\"aguacate\",\"sandia\"]\n",
        "\n",
        "#+ sobre listas\n",
        "#frutas=frutas+otras_frutas\n",
        "#print(frutas)\n",
        "\n",
        "#funcion extend()\n",
        "frutas.extend(otras_frutas)\n",
        "print(frutas)\n",
        "\n",
        "frutas.append(otras_frutas)\n",
        "print(frutas)\n",
        "\n",
        "#copiar listas(mal)\n",
        "colores=['Azul','Rojo','Verde','Violeta']\n",
        "otros_colores= colores\n",
        "print(colores)\n",
        "print(otros_colores)\n",
        "otros_colores.append(\"Rosa\")\n",
        "print(colores)\n",
        "print(otros_colores)\n",
        "\n",
        "#Manera correcta \n",
        "una_mas= colores.copy()\n",
        "print(una_mas)\n",
        "print(colores)\n",
        "una_mas.append(\"Amarilla\")\n",
        "print(una_mas)\n",
        "print(colores)\n",
        "\n",
        "#unpaking de listas\n",
        "alumno=['Jesus','Perez','Herrera',22,\"ICO\",10.0]\n",
        "#nombre=alumno[0]\n",
        "#Ocupamos unpaking para no hacer todo lo de arriba con cada uno.\n",
        "#la misma cantidad de valores que en la lista.\n",
        "nombre,paterno,materno,edad,carrera,promedio=alumno\n",
        "print(f\"Alumno:{nombre} carrera: { carrera} promedio={promedio}\")"
      ],
      "execution_count": 1,
      "outputs": [
        {
          "output_type": "stream",
          "text": [
            "['manzana', 'pera', 'aguacate', 'sandia']\n",
            "['manzana', 'pera', 'aguacate', 'sandia', ['aguacate', 'sandia']]\n",
            "['Azul', 'Rojo', 'Verde', 'Violeta']\n",
            "['Azul', 'Rojo', 'Verde', 'Violeta']\n",
            "['Azul', 'Rojo', 'Verde', 'Violeta', 'Rosa']\n",
            "['Azul', 'Rojo', 'Verde', 'Violeta', 'Rosa']\n",
            "['Azul', 'Rojo', 'Verde', 'Violeta', 'Rosa']\n",
            "['Azul', 'Rojo', 'Verde', 'Violeta', 'Rosa']\n",
            "['Azul', 'Rojo', 'Verde', 'Violeta', 'Rosa', 'Amarilla']\n",
            "['Azul', 'Rojo', 'Verde', 'Violeta', 'Rosa']\n",
            "Alumno:Jesus carrera: ICO promedio=10.0\n"
          ],
          "name": "stdout"
        }
      ]
    },
    {
      "cell_type": "markdown",
      "metadata": {
        "id": "T8Ej_AVpR74x"
      },
      "source": [
        "#TUPLAS\n",
        "* No mutables\n",
        "* declaran con ()\n",
        "* selector [int]"
      ]
    },
    {
      "cell_type": "code",
      "metadata": {
        "id": "j5Li5-_qSHrU",
        "outputId": "fa1e12a4-a811-439b-da0a-e414df66004c",
        "colab": {
          "base_uri": "https://localhost:8080/",
          "height": 85
        }
      },
      "source": [
        "precios=(99.9,49.9,12.45,23.3,33.44,55.66)\n",
        "print(precios[1])\n",
        "#precio[1]=50.0\n",
        "#como es mutable, no existen varios metodos.\n",
        "print(precios.count(99.9))\n",
        "print(precios.index(99.9))\n",
        "print(precios[2:4])\n"
      ],
      "execution_count": 8,
      "outputs": [
        {
          "output_type": "stream",
          "text": [
            "49.9\n",
            "1\n",
            "0\n",
            "(12.45, 23.3)\n"
          ],
          "name": "stdout"
        }
      ]
    },
    {
      "cell_type": "markdown",
      "metadata": {
        "id": "c1J-F-59TkSf"
      },
      "source": [
        "#diccionarios\n",
        "* mutables\n",
        "* se declaran con {}\n",
        "* conjunto de pares llave:valor\n",
        "* Equivalentes a los objetos JSON de JavaScript"
      ]
    },
    {
      "cell_type": "code",
      "metadata": {
        "id": "AJgRzcLHT3uI",
        "outputId": "997d8e11-1703-4680-fe74-2e6cfbbd1538",
        "colab": {
          "base_uri": "https://localhost:8080/",
          "height": 139
        }
      },
      "source": [
        "cliente={   }\n",
        "print(cliente)\n",
        "alumno={ \"num_cta\" : 420122814}\n",
        "print(alumno)\n",
        "alumno={ \n",
        "    \"num_cta\" : 420122814, \n",
        "    \"carrera\" : \"ICO\",\n",
        "    \"promedio\" : 9.45,\n",
        "    \"materias\" : [\"EDD\",\"CyP\",\"Calidad\",\"Emprendimietno\"],\n",
        "    \"direccion\" : {\n",
        "        \"Calle\" : \"rancho seco\",\n",
        "        \"numero\":  23,\n",
        "        \"delegacion\" : \"Neza\",\n",
        "        \"estado\" : {\n",
        "            \"id\":15,\n",
        "            \"nombre\":\"Estado de México\",\n",
        "            \"nombre_corto\" : \"EdoMex\"\n",
        "        }\n",
        "    },\n",
        "    \"CP\" : 57170\n",
        "    }\n",
        "print(alumno)\n",
        "print(alumno[\"materias\"])\n",
        "print(alumno[\"promedio\"])\n",
        "print(alumno[\"direccion\"][\"estado\"][\"nombre_corto\"])"
      ],
      "execution_count": 21,
      "outputs": [
        {
          "output_type": "stream",
          "text": [
            "{}\n",
            "{'num_cta': 420122814}\n",
            "{'num_cta': 420122814, 'carrera': 'ICO', 'promedio': 9.45, 'materias': ['EDD', 'CyP', 'Calidad', 'Emprendimietno'], 'direccion': {'Calle': 'rancho seco', 'numero': 23, 'delegacion': 'Neza', 'estado': {'id': 15, 'nombre': 'Estado de México', 'nombre_corto': 'EdoMex'}}, 'CP': 57170}\n",
            "['EDD', 'CyP', 'Calidad', 'Emprendimietno']\n",
            "9.45\n",
            "EdoMex\n"
          ],
          "name": "stdout"
        }
      ]
    }
  ]
}