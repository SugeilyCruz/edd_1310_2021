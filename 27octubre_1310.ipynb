{
  "nbformat": 4,
  "nbformat_minor": 0,
  "metadata": {
    "colab": {
      "name": "27octubre_1310.ipynb",
      "provenance": [],
      "authorship_tag": "ABX9TyPVCMiT0j9GOG74tQPh1OYk",
      "include_colab_link": true
    },
    "kernelspec": {
      "name": "python3",
      "display_name": "Python 3"
    }
  },
  "cells": [
    {
      "cell_type": "markdown",
      "metadata": {
        "id": "view-in-github",
        "colab_type": "text"
      },
      "source": [
        "<a href=\"https://colab.research.google.com/github/SugeilyCruz/edd_1310_2021/blob/master/27octubre_1310.ipynb\" target=\"_parent\"><img src=\"https://colab.research.google.com/assets/colab-badge.svg\" alt=\"Open In Colab\"/></a>"
      ]
    },
    {
      "cell_type": "code",
      "metadata": {
        "id": "UV1Q-x_726LR",
        "outputId": "bc16d609-1381-45fb-dc54-48bcd6103bcc",
        "colab": {
          "base_uri": "https://localhost:8080/",
          "height": 51
        }
      },
      "source": [
        "class Computadora:\n",
        "    def __init__( self , m , p):\n",
        "        self.__marca = m #atributos privados\n",
        "        self.__procesador = p\n",
        "\n",
        "    def to_string( self ):\n",
        "        return \"MArca:\"+self.__marca+\" Procesador:\"+self.__procesador\n",
        "#CONSTRUCTOR con set y get TIPO JAVA\n",
        "    def set_marca(self, m): #snakecase\n",
        "      self.__marca=m\n",
        "    def get_marca(self):\n",
        "      return self.__marca\n",
        "    def set_procesador(self, p):\n",
        "      self.__procesador\n",
        "    def get_procesador(self):\n",
        "      return self.__procesador\n",
        "\n",
        "mi_pc = Computadora(\"Toshiba\",\"Intel i7\")\n",
        "mi_pc.__marca=\"HP \"#Intendando cambiar el valor privado\n",
        "mi_pc.set_marca(\"HP co.\")\n",
        "print(mi_pc.to_string())\n",
        "print(mi_pc.get_procesador())"
      ],
      "execution_count": 1,
      "outputs": [
        {
          "output_type": "stream",
          "text": [
            "MArca:HP co. Procesador:Intel i7\n",
            "Intel i7\n"
          ],
          "name": "stdout"
        }
      ]
    },
    {
      "cell_type": "markdown",
      "metadata": {
        "id": "6dppcN1_EKNS"
      },
      "source": [
        "#Encapsulamiento\n",
        "* Tradicional tipo Java\n",
        "** void setAtributo (valor)\n",
        "** tipo getAtributo()\n",
        "* Estilo python 3\n",
        "Utilizando decoradores.\n",
        "** @property\n",
        "** @atributo.setter"
      ]
    },
    {
      "cell_type": "code",
      "metadata": {
        "id": "2AuSigFiH2ot",
        "outputId": "35f6124e-7ab9-44dc-865e-96b7f26bfce0",
        "colab": {
          "base_uri": "https://localhost:8080/",
          "height": 102
        }
      },
      "source": [
        "#Estilo python 3 Utilizando decoradores.\n",
        "class Computadora:\n",
        "    def __init__( self , m , p):\n",
        "        self.marca = m #No se declara,se manda a llamar el decorador @property\n",
        "        self.procesador = p #idem\n",
        "    @property #Declara como atributo privado y funciona como metodo get\n",
        "    def marca(self):\n",
        "      return self.__marca\n",
        "    @marca.setter\n",
        "    \n",
        "    def marca(self, m):\n",
        "      print(\"En el setter de MARCA\")\n",
        "      self.__marca=m\n",
        "    @property \n",
        "    \n",
        "    def procesador(self):\n",
        "      return self.__procesador\n",
        "    @procesador.setter\n",
        "    \n",
        "    def procesador(self, p):\n",
        "      print(\"En el metodo set de procesador\")\n",
        "      self.__procesador=p\n",
        "    \n",
        "    def to_string(self):\n",
        "      return \"marca:\"+self.marca+\" procesador:\"+self.procesador\n",
        "\n",
        "mi_pc2=Computadora(\"Mac Book Pro\",\"Intel i7\")\n",
        "print(mi_pc2.to_string())\n",
        "mi_pc2.marca = \"Dell\"\n",
        "print(mi_pc2.to_string())\n"
      ],
      "execution_count": 15,
      "outputs": [
        {
          "output_type": "stream",
          "text": [
            "En el setter de MARCA\n",
            "En el metodo set de procesador\n",
            "marca:Mac Book Pro procesador:Intel i7\n",
            "En el setter de MARCA\n",
            "marca:Dell procesador:Intel i7\n"
          ],
          "name": "stdout"
        }
      ]
    },
    {
      "cell_type": "code",
      "metadata": {
        "id": "XdHslEnwQi07",
        "outputId": "71a3ba81-bb60-42f4-888f-062ccaaeed6a",
        "colab": {
          "base_uri": "https://localhost:8080/",
          "height": 85
        }
      },
      "source": [
        "#HERENCIA, Pasando la clase base a la declaracion.\n",
        "class ServidorEmpresarial(Computadora):\n",
        "  def __init__(self):\n",
        "    print('Hola servidor')\n",
        "server=ServidorEmpresarial( )\n",
        "server.marca=\"Sun Micro Systems\"\n",
        "server.procesador=\"Intel i7\"\n",
        "print(server.to_string())\n"
      ],
      "execution_count": 20,
      "outputs": [
        {
          "output_type": "stream",
          "text": [
            "Hola servidor\n",
            "En el setter de MARCA\n",
            "En el metodo set de procesador\n",
            "marca:Sun Micro Systems procesador:Intel i7\n"
          ],
          "name": "stdout"
        }
      ]
    }
  ]
}