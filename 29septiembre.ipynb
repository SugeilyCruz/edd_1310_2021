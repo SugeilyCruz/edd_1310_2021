{
  "nbformat": 4,
  "nbformat_minor": 0,
  "metadata": {
    "colab": {
      "name": "Untitled0.ipynb",
      "provenance": [],
      "authorship_tag": "ABX9TyNx7elcQX7AITxgzvXhX+K3",
      "include_colab_link": true
    },
    "kernelspec": {
      "name": "python3",
      "display_name": "Python 3"
    }
  },
  "cells": [
    {
      "cell_type": "markdown",
      "metadata": {
        "id": "view-in-github",
        "colab_type": "text"
      },
      "source": [
        "<a href=\"https://colab.research.google.com/github/SugeilyCruz/edd_1310_2021/blob/master/29septiembre.ipynb\" target=\"_parent\"><img src=\"https://colab.research.google.com/assets/colab-badge.svg\" alt=\"Open In Colab\"/></a>"
      ]
    },
    {
      "cell_type": "code",
      "metadata": {
        "id": "gGyZIt7xsrbq"
      },
      "source": [
        "edad=10\n"
      ],
      "execution_count": 2,
      "outputs": []
    },
    {
      "cell_type": "code",
      "metadata": {
        "id": "TRUy6S0cvKae",
        "outputId": "84e1591f-5710-4d29-85e7-a89cde6b0fdd",
        "colab": {
          "base_uri": "https://localhost:8080/",
          "height": 51
        }
      },
      "source": [
        "print(edad)\n",
        "colores= ['rojo','azul','verde','morado','violeta']\n",
        "print(colores)"
      ],
      "execution_count": 7,
      "outputs": [
        {
          "output_type": "stream",
          "text": [
            "10\n",
            "['rojo', 'azul', 'verde', 'morado', 'violeta']\n"
          ],
          "name": "stdout"
        }
      ]
    },
    {
      "cell_type": "code",
      "metadata": {
        "id": "Nb8FBi9LwbrT",
        "outputId": "071ae47e-027f-44db-fc47-2180ce068e35",
        "colab": {
          "base_uri": "https://localhost:8080/",
          "height": 51
        }
      },
      "source": [
        "#colores[3]\n",
        "print('----')\n",
        "print(colores[3])"
      ],
      "execution_count": 9,
      "outputs": [
        {
          "output_type": "stream",
          "text": [
            "----\n",
            "morado\n"
          ],
          "name": "stdout"
        }
      ]
    },
    {
      "cell_type": "code",
      "metadata": {
        "id": "buP7v8E1w7NN",
        "outputId": "d93b4087-edb6-409c-a11d-40ce6aa22955",
        "colab": {
          "base_uri": "https://localhost:8080/",
          "height": 68
        }
      },
      "source": [
        "#Solo mostrar\"ra\" de morado\n",
        "print(colores[3][2:4])\n",
        "nombre=\"Alberto\"\n",
        "print(nombre[0])\n",
        "print(nombre[0:3:1])"
      ],
      "execution_count": 15,
      "outputs": [
        {
          "output_type": "stream",
          "text": [
            "ra\n",
            "A\n",
            "Alb\n"
          ],
          "name": "stdout"
        }
      ]
    },
    {
      "cell_type": "markdown",
      "metadata": {
        "id": "MWYvhTqMyK0V"
      },
      "source": [
        "# For en Python 3\n",
        "2 Variables \n",
        "1. j in range(ini, tope, incremento)\n",
        "2. in[iterador]<iterador>\n",
        "\n",
        "\n"
      ]
    },
    {
      "cell_type": "code",
      "metadata": {
        "id": "chvPk3ITxsBb",
        "outputId": "5aa0abd8-2ac8-45ab-9ff8-19f8e30948cd",
        "colab": {
          "base_uri": "https://localhost:8080/",
          "height": 102
        }
      },
      "source": [
        "for j in range(0,5,1):\n",
        "  print(colores[j])"
      ],
      "execution_count": 18,
      "outputs": [
        {
          "output_type": "stream",
          "text": [
            "rojo\n",
            "azul\n",
            "verde\n",
            "morado\n",
            "violeta\n"
          ],
          "name": "stdout"
        }
      ]
    },
    {
      "cell_type": "code",
      "metadata": {
        "id": "hIOINaDhz0Yk",
        "outputId": "39b475f1-0dc9-4293-b258-f1878865c7d1",
        "colab": {
          "base_uri": "https://localhost:8080/",
          "height": 102
        }
      },
      "source": [
        "for color in colores:\n",
        "  print(color[])"
      ],
      "execution_count": 20,
      "outputs": [
        {
          "output_type": "stream",
          "text": [
            "r\n",
            "a\n",
            "v\n",
            "m\n",
            "v\n"
          ],
          "name": "stdout"
        }
      ]
    },
    {
      "cell_type": "code",
      "metadata": {
        "id": "gWqxxr2V0diu",
        "outputId": "cd46e6a8-b9a9-407a-d236-7365a64aea38",
        "colab": {
          "base_uri": "https://localhost:8080/",
          "height": 272
        }
      },
      "source": [
        "for j in range(0,len(nombre),1):\n",
        "  print(nombre[j])\n",
        "print('--------------------')\n",
        "for nom in nombre:\n",
        "  print(nom)"
      ],
      "execution_count": 23,
      "outputs": [
        {
          "output_type": "stream",
          "text": [
            "A\n",
            "l\n",
            "b\n",
            "e\n",
            "r\n",
            "t\n",
            "o\n",
            "--------------------\n",
            "A\n",
            "l\n",
            "b\n",
            "e\n",
            "r\n",
            "t\n",
            "o\n"
          ],
          "name": "stdout"
        }
      ]
    },
    {
      "cell_type": "markdown",
      "metadata": {
        "id": "m1uPASuC3BDl"
      },
      "source": [
        "#**Markdown** \n",
        "Es un lenguaje de marcado para documentar codigo. El objetivo es simplificar la escritura de lenguaje HTML.\n",
        "\n",
        "**NEGRITAS**\n",
        "---\n",
        "hola\n",
        "***\n",
        "Mas informacion:[Github Cheatsheet\n",
        "markdown](https://github.com/adam-p/markdown-here/wiki/Markdown-Cheatsheet)\n",
        "\n",
        "***\n",
        "![Gatitow](https://http2.mlstatic.com/D_NQ_NP_740142-MLM41443933145_042020-O.webp)\n",
        "\n",
        "![suge](su.jpg) #imagen en compu, la agregas en la parte derecha.\n",
        "\n",
        "\n",
        "\n"
      ]
    }
  ]
}