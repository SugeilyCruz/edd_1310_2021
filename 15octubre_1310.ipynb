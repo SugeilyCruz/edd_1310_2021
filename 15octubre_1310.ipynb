{
  "nbformat": 4,
  "nbformat_minor": 0,
  "metadata": {
    "colab": {
      "name": "15octubre_1310.ipynb",
      "provenance": [],
      "authorship_tag": "ABX9TyMa2RT3gUPvY/U48Jku5rDH",
      "include_colab_link": true
    },
    "kernelspec": {
      "name": "python3",
      "display_name": "Python 3"
    }
  },
  "cells": [
    {
      "cell_type": "markdown",
      "metadata": {
        "id": "view-in-github",
        "colab_type": "text"
      },
      "source": [
        "<a href=\"https://colab.research.google.com/github/SugeilyCruz/edd_1310_2021/blob/master/15octubre_1310.ipynb\" target=\"_parent\"><img src=\"https://colab.research.google.com/assets/colab-badge.svg\" alt=\"Open In Colab\"/></a>"
      ]
    },
    {
      "cell_type": "markdown",
      "metadata": {
        "id": "W1c5desFB2Zp"
      },
      "source": [
        "#Modulos\n",
        "Son recursos reutilizables que contienen varias funciones que pueden ser importadas a tu codigo.\n",
        "\n",
        "pwd- checar carpeta en donde estoy\n",
        "cd /carpeta en donde quiero estar\n"
      ]
    },
    {
      "cell_type": "code",
      "metadata": {
        "id": "VnOEh_viCBON",
        "outputId": "2540564e-578a-40db-aff2-4ad9a3efad26",
        "colab": {
          "base_uri": "https://localhost:8080/",
          "height": 51
        }
      },
      "source": [
        "\"\"\"import mi_modulo\n",
        "x= mi_modulo.sumar(4,7)\n",
        "print(x)\n",
        "print(mi_modulo.multiplicar(3,5))\"\"\"\n"
      ],
      "execution_count": 16,
      "outputs": [
        {
          "output_type": "stream",
          "text": [
            "11\n",
            "15\n"
          ],
          "name": "stdout"
        }
      ]
    },
    {
      "cell_type": "code",
      "metadata": {
        "id": "kMIUhAzOKRqi",
        "outputId": "d711f9b6-fa58-40b0-be28-bad2f04111ec",
        "colab": {
          "base_uri": "https://localhost:8080/",
          "height": 68
        }
      },
      "source": [
        "from mi_modulo import sumar as sm#Administracion de costos\n",
        "print(sm(4,7))\n",
        "from mi_modulo import restar, dividir\n",
        "print(restar(4,7))\n",
        "print(dividir(4,7))"
      ],
      "execution_count": 26,
      "outputs": [
        {
          "output_type": "stream",
          "text": [
            "11\n",
            "-3\n",
            "0.5714285714285714\n"
          ],
          "name": "stdout"
        }
      ]
    },
    {
      "cell_type": "code",
      "metadata": {
        "id": "ooL-9BbQLLgO",
        "outputId": "4db1ae19-a652-4ddc-fa8b-6e7c43a5c019",
        "colab": {
          "base_uri": "https://localhost:8080/",
          "height": 34
        }
      },
      "source": [
        "import mi_modulo as aliass\n",
        "print(aliass.sumar(4,6))\n"
      ],
      "execution_count": 22,
      "outputs": [
        {
          "output_type": "stream",
          "text": [
            "10\n"
          ],
          "name": "stdout"
        }
      ]
    },
    {
      "cell_type": "code",
      "metadata": {
        "id": "R5XBJifWN9lr",
        "outputId": "8347b9b9-8675-4412-c139-0cf1ef2475e5",
        "colab": {
          "base_uri": "https://localhost:8080/",
          "height": 35
        }
      },
      "source": [
        "#pip --version\n",
        "#pip install joke-generator\n",
        "from joke_generator import generate\n",
        "generate()"
      ],
      "execution_count": 31,
      "outputs": [
        {
          "output_type": "execute_result",
          "data": {
            "application/vnd.google.colaboratory.intrinsic+json": {
              "type": "string"
            },
            "text/plain": [
              "'I just read a book about Stockholm syndrome. It was pretty bad at first, but by the end I liked it.'"
            ]
          },
          "metadata": {
            "tags": []
          },
          "execution_count": 31
        }
      ]
    },
    {
      "cell_type": "markdown",
      "metadata": {
        "id": "Cbz1X0CVSQNo"
      },
      "source": [
        "#Archivos\n",
        "* open (str, str)\n",
        "*- 1.Nombre o ruta del archivo.\n",
        "*- 2.dos caracteres\n",
        "* Modo de apertura del archivo (r,w,a appen si y solo si el archivo existe, x append si y solo si el archivo no existe)\n",
        "* Formato del archivo(t o b)\n",
        "\n"
      ]
    },
    {
      "cell_type": "code",
      "metadata": {
        "id": "T_PsO9WGSy8t"
      },
      "source": [
        "archivo=open(\"saludo.tx\",\"wt\")#write\n",
        "archivo.write(\"Hola mundo \\n Ola ke aze\")\n",
        "archivo.close()\n"
      ],
      "execution_count": 33,
      "outputs": []
    },
    {
      "cell_type": "code",
      "metadata": {
        "id": "70oZoGGPUZwm",
        "outputId": "89ccf61a-b2b1-4d44-df2f-2bcc268f230d",
        "colab": {
          "base_uri": "https://localhost:8080/",
          "height": 170
        }
      },
      "source": [
        "\"\"\"otro=open(\"./sample_data/anscombe.json\",\"rt\")#read\n",
        "datos=otro.read()#lee y regresa con string\n",
        "print(datos)\n",
        "otro.close()\"\"\"\n",
        "\n",
        "arch = open('frutas.txt','rt')\n",
        "#print(arch.readline())\n",
        "#print(arch.readline())\n",
        "#print(arch.readline())\n",
        "print(\"----\")\n",
        "data='ppp'\n",
        "while( data != ''):#leer linea por linea, hasta encontrar un ''\n",
        "  data=arch.readline()\n",
        "  print(data)\n",
        "arch.close()\n",
        "arch = open('frutas.txt','rt')\n",
        "list_frutas=arch.readlines()#nos regresa el elemento en una lista, incluyendo saltos de lineas\n",
        "print(list_frutas)\n",
        "arch.close()"
      ],
      "execution_count": 43,
      "outputs": [
        {
          "output_type": "stream",
          "text": [
            "----\n",
            "manzana, pera, kiwi, aguacate\n",
            "\n",
            "limon, naranja\n",
            "\n",
            "sandia, papaya\n",
            "\n",
            "\n",
            "['manzana, pera, kiwi, aguacate\\n', 'limon, naranja\\n', 'sandia, papaya\\n']\n"
          ],
          "name": "stdout"
        }
      ]
    },
    {
      "cell_type": "markdown",
      "metadata": {
        "id": "cRSe0BraUwYp"
      },
      "source": [
        ""
      ]
    }
  ]
}