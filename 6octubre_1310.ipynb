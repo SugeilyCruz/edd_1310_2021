{
  "nbformat": 4,
  "nbformat_minor": 0,
  "metadata": {
    "colab": {
      "name": "6octubre_1310.ipynb",
      "provenance": [],
      "authorship_tag": "ABX9TyNQmKzN/Q2f0UuxlPb+TYp6",
      "include_colab_link": true
    },
    "kernelspec": {
      "name": "python3",
      "display_name": "Python 3"
    }
  },
  "cells": [
    {
      "cell_type": "markdown",
      "metadata": {
        "id": "view-in-github",
        "colab_type": "text"
      },
      "source": [
        "<a href=\"https://colab.research.google.com/github/SugeilyCruz/edd_1310_2021/blob/master/6octubre_1310.ipynb\" target=\"_parent\"><img src=\"https://colab.research.google.com/assets/colab-badge.svg\" alt=\"Open In Colab\"/></a>"
      ]
    },
    {
      "cell_type": "code",
      "metadata": {
        "id": "icAy3wlFrK-0",
        "outputId": "d26941c1-96ea-492c-edb9-9df66262e28f",
        "colab": {
          "base_uri": "https://localhost:8080/",
          "height": 170
        }
      },
      "source": [
        "#STRING CONTINUACION\n",
        "numeros_txt=\"    1, 2, 3, 4    , 5  ,35  ,15  ,12\" \n",
        "print(numeros_txt)\n",
        "numeros_txt=numeros_txt.lstrip().split(\",\")\n",
        "print(numeros_txt)\n",
        "\n",
        "numeros=range(len(numeros_txt))\n",
        "for j in numeros:\n",
        "  numeros_txt[j]=int(numeros_txt[j].strip())\n",
        "print(numeros_txt)\n",
        "print(\"----------------------------------------\")\n",
        "for j in range(len(numeros_txt)):\n",
        "numeros_txt[j]=int(numeros_txt[j].strip())\n",
        "print(numeros_txt)\n",
        "#funcion range()\n",
        "#range(inicio, stop, incremento) el inicio y el incremento es opcional, si no lo pones es ini=0 e incre=1\n",
        "print(range(1, 10, 3))\n",
        "rango=range(1,10,2)\n",
        "for x in rango:\n",
        "  print(x)"
      ],
      "execution_count": null,
      "outputs": [
        {
          "output_type": "stream",
          "text": [
            "    1, 2, 3, 4    , 5  ,35  ,15  ,12\n",
            "['1', ' 2', ' 3', ' 4    ', ' 5  ', '35  ', '15  ', '12']\n",
            "[1, 2, 3, 4, 5, 35, 15, 12]\n",
            "range(1, 10, 3)\n",
            "1\n",
            "3\n",
            "5\n",
            "7\n",
            "9\n"
          ],
          "name": "stdout"
        }
      ]
    },
    {
      "cell_type": "markdown",
      "metadata": {
        "id": "79mZqVpNxNOf"
      },
      "source": [
        "#LISTAS\n",
        "* mutables\n",
        "* declaran con []\n",
        "* selector[int]\n",
        "* pueden ser de cualquier tipo y mezclados\n",
        "\n",
        "#tuplas\n",
        "* No mutables\n",
        "* declaran con ()\n",
        "* selector [int]\n",
        "#diccionarios\n",
        "* mutables\n",
        "* conjunto de pares llave:valor\n",
        "* Equivalentes a los objetos JSON de JavaScritp\n",
        "#conjuntos\n",
        "* representacion de la teoria de conjuntos\n",
        "\n"
      ]
    },
    {
      "cell_type": "code",
      "metadata": {
        "id": "IR5CeicJx6-y",
        "outputId": "c9b1b08d-9e13-4fb4-deb0-46c6068ddbdc",
        "colab": {
          "base_uri": "https://localhost:8080/",
          "height": 119
        }
      },
      "source": [
        "#Listas (Equivalentes a arreglos en otros lenguajes de prog.)\n",
        "frutas=['sandia','pera','manzana','fresa','kiwi','naranja']\n",
        "print(frutas)\n",
        "cosas=['cuaderno', 2, 3.1416, True, False, ['Rojo','Azul'] ]\n",
        "print(cosas)\n",
        "#Mutables que se pueden cambiar, despues de ponerlas.\n",
        "frutas[2]='coco'\n",
        "print(frutas)\n",
        "frutas[2]=frutas[2].capitalize()\n",
        "print(frutas)\n",
        "#agregar lista\n",
        "frutas.append('mango')\n",
        "print(frutas)\n",
        "frutas.insert(2,'platano')#Agregar otro elemento, despues de la posicion que queramos.\n",
        "print(frutas)\n"
      ],
      "execution_count": null,
      "outputs": [
        {
          "output_type": "stream",
          "text": [
            "['sandia', 'pera', 'manzana', 'fresa', 'kiwi', 'naranja']\n",
            "['cuaderno', 2, 3.1416, True, False, ['Rojo', 'Azul']]\n",
            "['sandia', 'pera', 'coco', 'fresa', 'kiwi', 'naranja']\n",
            "['sandia', 'pera', 'Coco', 'fresa', 'kiwi', 'naranja']\n",
            "['sandia', 'pera', 'Coco', 'fresa', 'kiwi', 'naranja', 'mango']\n",
            "['sandia', 'pera', 'platano', 'Coco', 'fresa', 'kiwi', 'naranja', 'mango']\n"
          ],
          "name": "stdout"
        }
      ]
    },
    {
      "cell_type": "code",
      "metadata": {
        "id": "qpk7vlvl1ls5",
        "outputId": "1103cd3e-0741-4f77-8a20-284eba7b6a3c",
        "colab": {
          "base_uri": "https://localhost:8080/",
          "height": 204
        }
      },
      "source": [
        "fecha=['06','10','2020']\n",
        "fecha_str=\"/\".join(fecha)\n",
        "print(fecha_str)\n",
        "print(\"-----------\")\n",
        "#eliminar elemento\n",
        "cosas=['cuaderno', 2, 3.1416, True, False, ['Rojo','Azul'] ]\n",
        "print(cosas)\n",
        "cosas.append(\"Libro\")\n",
        "cosas.append(\"Lapiz\")\n",
        "print(cosas)\n",
        "algo=cosas.pop()\n",
        "print(cosas)\n",
        "algo=cosas.pop(2)\n",
        "print(algo)\n",
        "print(cosas)\n",
        "print('-----------------')\n",
        "cosas.remove(2)\n",
        "print(cosas)\n",
        "#vaciar una lista\n",
        "cosas.clear()\n",
        "print(cosas)\n",
        "\n",
        "#ordenar\n",
        "frutas=['sandia','pera','manzana','fresa','kiwi','naranja']\n",
        "frutas.sort()#Tienen que tener congruencia entre ellos.\n",
        "print(frutas)"
      ],
      "execution_count": 2,
      "outputs": [
        {
          "output_type": "stream",
          "text": [
            "06/10/2020\n",
            "-----------\n",
            "['cuaderno', 2, 3.1416, True, False, ['Rojo', 'Azul']]\n",
            "['cuaderno', 2, 3.1416, True, False, ['Rojo', 'Azul'], 'Libro', 'Lapiz']\n",
            "['cuaderno', 2, 3.1416, True, False, ['Rojo', 'Azul'], 'Libro']\n",
            "3.1416\n",
            "['cuaderno', 2, True, False, ['Rojo', 'Azul'], 'Libro']\n",
            "-----------------\n",
            "['cuaderno', True, False, ['Rojo', 'Azul'], 'Libro']\n",
            "[]\n",
            "['fresa', 'kiwi', 'manzana', 'naranja', 'pera', 'sandia']\n"
          ],
          "name": "stdout"
        }
      ]
    },
    {
      "cell_type": "code",
      "metadata": {
        "id": "7DDSOINB7IEW",
        "outputId": "435e3d14-d588-4638-a4e9-b258bfdec449",
        "colab": {
          "base_uri": "https://localhost:8080/",
          "height": 119
        }
      },
      "source": [
        "#Slincing\n",
        "cosas=['ucaderno', 2, 3.1416, True, False, ['Rojo','Azul'] ]\n",
        "print(cosas[3:5:1])\n",
        "print(cosas)\n",
        "print(cosas[0][3:5:1])\n",
        "\n",
        "numeros=[0,1,2,3,4,5,6,7,8,9,10,11,12,13,14,15]\n",
        "print(numeros[8:13:])\n",
        "#sustituir rebanadas -2,-2\n",
        "numeros[8:13:]=[-2,-2]\n",
        "print(numeros)\n",
        "#preguntar por una existencia\n",
        "print(-2 in numeros)\n"
      ],
      "execution_count": null,
      "outputs": [
        {
          "output_type": "stream",
          "text": [
            "[True, False]\n",
            "['ucaderno', 2, 3.1416, True, False, ['Rojo', 'Azul']]\n",
            "de\n",
            "[8, 9, 10, 11, 12]\n",
            "[0, 1, 2, 3, 4, 5, 6, 7, -2, -2, 13, 14, 15]\n",
            "False\n"
          ],
          "name": "stdout"
        }
      ]
    },
    {
      "cell_type": "markdown",
      "metadata": {
        "id": "NZbwwyJy-iYU"
      },
      "source": [
        "#LISTAS MULTI DIMENSIÓN\n",
        "Listas dentro de listas"
      ]
    },
    {
      "cell_type": "code",
      "metadata": {
        "id": "iq3EEHnq-qfa",
        "outputId": "530c62e4-eb2e-48fd-86dc-ba8ffb8a8964",
        "colab": {
          "base_uri": "https://localhost:8080/",
          "height": 241
        }
      },
      "source": [
        "computadoras=['HP','Mac Book Pro 17','Mate Book','Lenovo Legion']\n",
        "oss=['Windows 10','Linux','Android','iOS']\n",
        "\n",
        "computo=[computadoras, oss]\n",
        "print(computo[0])\n",
        "print(computo[1])\n",
        "print(computo[0][2])\n",
        "print(computo[0][2][0:5])\n",
        "print(computo[0][3][5::-1])\n",
        "print(computo[0][3][-8::-1])#ya no contamos ocn 0, si no desde 1.\n",
        "print(computo[0][3][:6:-1])\n",
        "print('Linux' in computo[1])\n",
        "dbms=[[\"Mysql\",\"Open Source\", False],[\"MS SQL Server\",\"de paga\",True]]#Sistema gestores de bases de datos=es lo que hace consultas desde tu programa a la base de datos.\n",
        "computo.append(dbms)\n",
        "print(computo)\n",
        "print(computo[2][0][0])\n",
        "print(computo[2][1][1])\n",
        "print(computo[2][1][1][3:7:])"
      ],
      "execution_count": null,
      "outputs": [
        {
          "output_type": "stream",
          "text": [
            "['HP', 'Mac Book Pro 17', 'Mate Book', 'Lenovo Legion']\n",
            "['Windows 10', 'Linux', 'Android', 'iOS']\n",
            "Mate Book\n",
            "Mate \n",
            "ovoneL\n",
            "ovoneL\n",
            "noigeL\n",
            "True\n",
            "[['HP', 'Mac Book Pro 17', 'Mate Book', 'Lenovo Legion'], ['Windows 10', 'Linux', 'Android', 'iOS'], [['Mysql', 'Open Source', False], ['MS SQL Server', 'de paga', True]]]\n",
            "Mysql\n",
            "de paga\n",
            "paga\n"
          ],
          "name": "stdout"
        }
      ]
    }
  ]
}