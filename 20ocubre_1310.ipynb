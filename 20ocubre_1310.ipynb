{
  "nbformat": 4,
  "nbformat_minor": 0,
  "metadata": {
    "colab": {
      "name": "20ocubre_1310.ipynb",
      "provenance": [],
      "toc_visible": true,
      "authorship_tag": "ABX9TyNVgBB7I40gnMDwPw81UDPb",
      "include_colab_link": true
    },
    "kernelspec": {
      "name": "python3",
      "display_name": "Python 3"
    }
  },
  "cells": [
    {
      "cell_type": "markdown",
      "metadata": {
        "id": "view-in-github",
        "colab_type": "text"
      },
      "source": [
        "<a href=\"https://colab.research.google.com/github/SugeilyCruz/edd_1310_2021/blob/master/20ocubre_1310.ipynb\" target=\"_parent\"><img src=\"https://colab.research.google.com/assets/colab-badge.svg\" alt=\"Open In Colab\"/></a>"
      ]
    },
    {
      "cell_type": "code",
      "metadata": {
        "id": "I_zQWbBruJq9",
        "outputId": "5a607d19-48ee-48df-d785-2cc614facab8",
        "colab": {
          "base_uri": "https://localhost:8080/",
          "height": 272
        }
      },
      "source": [
        "archivo=open('numeros.txt','rt')\n",
        "for linea in archivo.readlines():#Lista\n",
        "  for trune in linea.split(','):\n",
        "    a=int(trune.strip())\n",
        "    suma=0\n",
        "    suma=suma+a\n",
        "    print(suma)\n",
        "\n"
      ],
      "execution_count": 8,
      "outputs": [
        {
          "output_type": "stream",
          "text": [
            "23\n",
            "23\n",
            "44\n",
            "55\n",
            "5\n",
            "44\n",
            "4\n",
            "5\n",
            "7\n",
            "7\n",
            "6\n",
            "5\n",
            "4\n",
            "2\n",
            "1\n"
          ],
          "name": "stdout"
        }
      ]
    },
    {
      "cell_type": "markdown",
      "metadata": {
        "id": "v9c8JhU92tiv"
      },
      "source": [
        "#sintaxis del for en python\n",
        "dos versiones de for \n",
        "* range\n",
        "* int iterator"
      ]
    },
    {
      "cell_type": "code",
      "metadata": {
        "id": "FjQXjDCk26IL",
        "outputId": "bdf5ff0b-a381-4ea9-b83d-025273be6d48",
        "colab": {
          "base_uri": "https://localhost:8080/",
          "height": 289
        }
      },
      "source": [
        "r=range(0,11,1)\n",
        "for x in r:\n",
        "  print(x)\n",
        "colores=['rojo','rosa','azul','fucsia']\n",
        "#usar este for cuando modificamos el elemento.\n",
        "for indice in range(0,len(colores),1):#for (indice=0;indice<4;indice++)\n",
        "  #print(colores[indice])\n",
        "  colores[indice]=colores[indice].upper()\n",
        "print(\"---------------\")\n",
        "#for sobre un iterador, mostrar todo\n",
        "for color in colores:\n",
        "  print(color)\n",
        "\n"
      ],
      "execution_count": 20,
      "outputs": [
        {
          "output_type": "stream",
          "text": [
            "0\n",
            "1\n",
            "2\n",
            "3\n",
            "4\n",
            "5\n",
            "6\n",
            "7\n",
            "8\n",
            "9\n",
            "10\n",
            "---------------\n",
            "ROJO\n",
            "ROSA\n",
            "AZUL\n",
            "FUCSIA\n"
          ],
          "name": "stdout"
        }
      ]
    },
    {
      "cell_type": "markdown",
      "metadata": {
        "id": "l9Bc-OTU7-2w"
      },
      "source": [
        "# GENERADORES\n",
        "[valor for x in range()] el valor va a generar una lista sobre x, enel comportamiento del range."
      ]
    },
    {
      "cell_type": "code",
      "metadata": {
        "id": "jnl0J-vc8fco",
        "outputId": "f16bd43a-c56b-4ea0-e2ca-bad38591c8e9",
        "colab": {
          "base_uri": "https://localhost:8080/",
          "height": 51
        }
      },
      "source": [
        "lista=[[0,0,0] for x in range(3)]\n",
        "print (lista)\n",
        "ren=3\n",
        "col=3\n",
        "num=0\n",
        "lista_2=[[num for x in range(col)] for z in range(ren)]\n",
        "print(lista_2)"
      ],
      "execution_count": 39,
      "outputs": [
        {
          "output_type": "stream",
          "text": [
            "[[0, 0, 0], [0, 0, 0], [0, 0, 0]]\n",
            "[[0, 0, 0], [0, 0, 0], [0, 0, 0]]\n"
          ],
          "name": "stdout"
        }
      ]
    },
    {
      "cell_type": "markdown",
      "metadata": {
        "id": "o5qKdmTM_FvW"
      },
      "source": [
        "#POO en python\n",
        "* clase\n",
        "* creacion de objetos\n",
        "* constructor\n",
        "* encapsulamiento\n",
        "* metodos\n",
        "* atributos\n",
        "* herencia\n"
      ]
    },
    {
      "cell_type": "code",
      "metadata": {
        "id": "MqjWkZ3C_h2c",
        "outputId": "13a46ebc-593e-4c04-b460-6ba2a978cc0f",
        "colab": {
          "base_uri": "https://localhost:8080/",
          "height": 34
        }
      },
      "source": [
        "class Computadora:\n",
        "  def __init__(self, m, p):#como es un lenguaje que simula la Poo no maneja bien la referencia de los obj, asi que el metodo tiene que recibir al propio objeto\"self\".\n",
        "    #print('creando el objeto')\n",
        "    self.__marca=m#__ atributo privado.\n",
        "    self.__procesador=p\n",
        "    \n",
        "  def to_string(self):\n",
        "      #return 'Estado vacio'\n",
        "      return \"Marca=\"+self.__marca+\" Procesador=\"+self.__procesador\n",
        "\n",
        "mi_pc=Computadora(\"Toshiba\",\"Intel i7\")#manda tambien el argumento del objeto aun que no aparesca, la variable que la recibe es self.\n",
        "mi_pc.__marca=\"HP\"\n",
        "print(mi_pc.to_string())\n",
        "\n"
      ],
      "execution_count": 48,
      "outputs": [
        {
          "output_type": "stream",
          "text": [
            "Marca=Toshiba Procesador=Intel i7\n"
          ],
          "name": "stdout"
        }
      ]
    }
  ]
}