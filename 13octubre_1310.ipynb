{
  "nbformat": 4,
  "nbformat_minor": 0,
  "metadata": {
    "colab": {
      "name": "13octubre_1310.ipynb",
      "provenance": [],
      "authorship_tag": "ABX9TyNWhUkxkigKltLYET7H73wY",
      "include_colab_link": true
    },
    "kernelspec": {
      "name": "python3",
      "display_name": "Python 3"
    }
  },
  "cells": [
    {
      "cell_type": "markdown",
      "metadata": {
        "id": "view-in-github",
        "colab_type": "text"
      },
      "source": [
        "<a href=\"https://colab.research.google.com/github/SugeilyCruz/edd_1310_2021/blob/master/13octubre_1310.ipynb\" target=\"_parent\"><img src=\"https://colab.research.google.com/assets/colab-badge.svg\" alt=\"Open In Colab\"/></a>"
      ]
    },
    {
      "cell_type": "code",
      "metadata": {
        "id": "W5OhcI_xuErp",
        "outputId": "54620976-004a-42de-9b76-5d921e749778",
        "colab": {
          "base_uri": "https://localhost:8080/",
          "height": 105
        }
      },
      "source": [
        "alumno = { \n",
        "          \"num_cta\" : 303030303 ,\n",
        "          \"carrera\" : \"ICO\",\n",
        "          \"promedio\" : 9.8,\n",
        "          \"materias\" :[\"EDD\",\"CyP\",\"Calidad\",\"Emprendimiento\"],\n",
        "          \"direccion\" : { \n",
        "                            \"calle\":\"rancho seco\",\n",
        "                            \"numero\" : 23 ,\n",
        "                            \"delegacion\" : \"Neza\",\n",
        "                            \"estado\" : {\n",
        "                                        \"id\" : 15 ,\n",
        "                                        \"nombre\" : \"Estado de Máxico\" ,\n",
        "                                        \"nombre_corto\" : \"EdoMex\"\n",
        "                                        } ,\n",
        "                            \"CP\":57170\n",
        "\n",
        "                        } \n",
        "          }\n",
        "print(alumno)\n",
        "alumno['carrera']='Ingenieria en Computación'\n",
        "print(alumno)\n",
        "alumno['nombre_completo']={'primer':\"Juan\",\n",
        "                           \"segundo\":'Pedro',\n",
        "                           'materno':'Pérez',\n",
        "                           'paterno':'Gómez'}\n",
        "alumno['semestre']=3\n",
        "print(alumno)\n",
        "print(f\"{alumno['nombre_completo']['primer']} {alumno['nombre_completo']['segundo']}\")\n"
      ],
      "execution_count": 5,
      "outputs": [
        {
          "output_type": "stream",
          "text": [
            "{'num_cta': 303030303, 'carrera': 'ICO', 'promedio': 9.8, 'materias': ['EDD', 'CyP', 'Calidad', 'Emprendimiento'], 'direccion': {'calle': 'rancho seco', 'numero': 23, 'delegacion': 'Neza', 'estado': {'id': 15, 'nombre': 'Estado de Máxico', 'nombre_corto': 'EdoMex'}, 'CP': 57170}}\n",
            "{'num_cta': 303030303, 'carrera': 'Ingenieria en Computación', 'promedio': 9.8, 'materias': ['EDD', 'CyP', 'Calidad', 'Emprendimiento'], 'direccion': {'calle': 'rancho seco', 'numero': 23, 'delegacion': 'Neza', 'estado': {'id': 15, 'nombre': 'Estado de Máxico', 'nombre_corto': 'EdoMex'}, 'CP': 57170}}\n",
            "{'num_cta': 303030303, 'carrera': 'Ingenieria en Computación', 'promedio': 9.8, 'materias': ['EDD', 'CyP', 'Calidad', 'Emprendimiento'], 'direccion': {'calle': 'rancho seco', 'numero': 23, 'delegacion': 'Neza', 'estado': {'id': 15, 'nombre': 'Estado de Máxico', 'nombre_corto': 'EdoMex'}, 'CP': 57170}, 'nombre_completo': {'primer': 'Juan', 'segundo': 'Pedro', 'materno': 'Pérez', 'paterno': 'Gómez'}, 'semestre': 3}\n",
            "Juan Pedro\n"
          ],
          "name": "stdout"
        }
      ]
    },
    {
      "cell_type": "code",
      "metadata": {
        "id": "U5lKUcPIx8K3",
        "outputId": "930664cb-4db3-44ae-af2a-ce7802c88ce4",
        "colab": {
          "base_uri": "https://localhost:8080/",
          "height": 428
        }
      },
      "source": [
        "#help(dict)\n",
        "#key(), values() y items()\n",
        "llaves= alumno.keys()#lado izquierdo de los pares\n",
        "print(llaves)\n",
        "for llave in llaves:\n",
        "  print(llave.upper())\n",
        "valores= alumno.values()#lado derecho de los pares\n",
        "for val in valores:\n",
        "  print(val)\n",
        "pares=alumno.items()\n",
        "print(pares)#LISTA DE TUPLAS/ TUPLAS= LLAVE:VALOR / SOLO PARA CONSULTA.\n",
        "for elem in pares:\n",
        "  print(f\"El campo {elem[0]} tiene el valor {elem[1]}\")\n",
        "\n"
      ],
      "execution_count": 16,
      "outputs": [
        {
          "output_type": "stream",
          "text": [
            "dict_keys(['num_cta', 'carrera', 'promedio', 'materias', 'direccion', 'nombre_completo', 'semestre'])\n",
            "NUM_CTA\n",
            "CARRERA\n",
            "PROMEDIO\n",
            "MATERIAS\n",
            "DIRECCION\n",
            "NOMBRE_COMPLETO\n",
            "SEMESTRE\n",
            "303030303\n",
            "Ingenieria en Computación\n",
            "9.8\n",
            "['EDD', 'CyP', 'Calidad', 'Emprendimiento']\n",
            "{'calle': 'rancho seco', 'numero': 23, 'delegacion': 'Neza', 'estado': {'id': 15, 'nombre': 'Estado de Máxico', 'nombre_corto': 'EdoMex'}, 'CP': 57170}\n",
            "{'primer': 'Juan', 'segundo': 'Pedro', 'materno': 'Pérez', 'paterno': 'Gómez'}\n",
            "3\n",
            "dict_items([('num_cta', 303030303), ('carrera', 'Ingenieria en Computación'), ('promedio', 9.8), ('materias', ['EDD', 'CyP', 'Calidad', 'Emprendimiento']), ('direccion', {'calle': 'rancho seco', 'numero': 23, 'delegacion': 'Neza', 'estado': {'id': 15, 'nombre': 'Estado de Máxico', 'nombre_corto': 'EdoMex'}, 'CP': 57170}), ('nombre_completo', {'primer': 'Juan', 'segundo': 'Pedro', 'materno': 'Pérez', 'paterno': 'Gómez'}), ('semestre', 3)])\n",
            "El campo num_cta tiene el valor 303030303\n",
            "El campo carrera tiene el valor Ingenieria en Computación\n",
            "El campo promedio tiene el valor 9.8\n",
            "El campo materias tiene el valor ['EDD', 'CyP', 'Calidad', 'Emprendimiento']\n",
            "El campo direccion tiene el valor {'calle': 'rancho seco', 'numero': 23, 'delegacion': 'Neza', 'estado': {'id': 15, 'nombre': 'Estado de Máxico', 'nombre_corto': 'EdoMex'}, 'CP': 57170}\n",
            "El campo nombre_completo tiene el valor {'primer': 'Juan', 'segundo': 'Pedro', 'materno': 'Pérez', 'paterno': 'Gómez'}\n",
            "El campo semestre tiene el valor 3\n"
          ],
          "name": "stdout"
        }
      ]
    },
    {
      "cell_type": "code",
      "metadata": {
        "id": "Gz4hFtNv1G1W",
        "outputId": "83d90891-d871-48e3-ec27-8a97e666b953",
        "colab": {
          "base_uri": "https://localhost:8080/",
          "height": 34
        }
      },
      "source": [
        "computadora={\"procesador\":\"Intel i7\",\"ram\":\"Kingston 128GB\"}\n",
        "otros={\"monitos\":\"LG 49\\\"\",\"hd\":\"Tochiba lTB\"}\n",
        "#computadora += otros Concatenar(no funciona)\n",
        "computadora.update(otros)#Meter los mienbros de un diccionario a otro \n",
        "print(computadora)"
      ],
      "execution_count": 19,
      "outputs": [
        {
          "output_type": "stream",
          "text": [
            "{'procesador': 'Intel i7', 'ram': 'Kingston 128GB', 'monitos': 'LG 49\"', 'hd': 'Tochiba lTB'}\n"
          ],
          "name": "stdout"
        }
      ]
    },
    {
      "cell_type": "markdown",
      "metadata": {
        "id": "ovydR82t2ng-"
      },
      "source": [
        "#FUNCIONES\n",
        "* Unidades de código reutilizable\n",
        "* Es un mecanismo de organización de código\n",
        "* Una funcion toma de 0 a n parametros de entrada\n",
        "* Tiene una sola salida(return) de cualquier tipo de dato\n",
        "* Solo puedes hacer dos cosas:\n",
        " - Definirla\n",
        " - Llamarla\n",
        "* Se define con la palabra reservada 'def'"
      ]
    },
    {
      "cell_type": "code",
      "metadata": {
        "id": "1OljpwTP3vdS",
        "outputId": "7756e184-d25b-45e7-933c-87fcd6fba354",
        "colab": {
          "base_uri": "https://localhost:8080/",
          "height": 204
        }
      },
      "source": [
        "def sumar( x , y ):\n",
        "  resultado = x + y\n",
        "  return resultado \n",
        "def saludar(nombre):\n",
        "  print(f\"Hola {nombre}, Como estas?\")\n",
        "#  return None\n",
        "def sal(nombre):\n",
        "  saludo=[\"Hola\",\",¿Cómo estás?\"]\n",
        "  saludo.insert(1,nombre)\n",
        "  return saludo\n",
        "#Procesar None\n",
        "def multiplicar(valor, veces):\n",
        "  if valor!=None:\n",
        "    c=valor *veces\n",
        "  else:\n",
        "    c=\"Operacion no Valida\"\n",
        "  return \n",
        "def operacion(a,b,c):\n",
        "  resultado= a + (b/c)\n",
        "  return resultado\n",
        "\n",
        "print(sumar(10,5))\n",
        "print(sumar(2,5))\n",
        "c=sumar(3,10)\n",
        "print(c)\n",
        "saludar(\"Jesus\")\n",
        "print(saludar(\"Jose\"))\n",
        "print(multiplicar(5,6))\n",
        "print(sal(\"Sugeily\"))\n",
        "print(multiplicar(None,6))\n",
        "print(operacion(2,9,3))\n",
        "\n",
        "print(operacion(a=2,c=3,b=9))\n"
      ],
      "execution_count": 59,
      "outputs": [
        {
          "output_type": "stream",
          "text": [
            "15\n",
            "7\n",
            "13\n",
            "Hola Jesus, Como estas?\n",
            "Hola Jose, Como estas?\n",
            "None\n",
            "None\n",
            "['Hola', 'Sugeily', ',¿Cómo estás?']\n",
            "None\n",
            "5.0\n",
            "5.0\n"
          ],
          "name": "stdout"
        }
      ]
    },
    {
      "cell_type": "code",
      "metadata": {
        "id": "csVI_Z8PBPFE",
        "outputId": "4d933578-dfa7-439a-bd1e-3f431ee46f35",
        "colab": {
          "base_uri": "https://localhost:8080/",
          "height": 272
        }
      },
      "source": [
        "#Valores por defecto\n",
        "def comanda(primer, fuerte, postre=\"Galleta de Animalito\"):\n",
        "  print(f\"De entrada pidio: {primer}\")\n",
        "  print(f\"De plato fuerte pidio: {fuerte}\")\n",
        "  print(f\"De postre pidio: {postre}\")\n",
        "#argumentos posicionales con tuplas *\n",
        "def comanda_2(*opciones):\n",
        "  print(opciones)\n",
        "  print(f\"De entrada pidio: {opciones[0]}\")\n",
        "  print(f\"De plato fuerte pidio: {opciones[1]}\")\n",
        "  print(f\"De postre pidio: {opciones[2]}\")\n",
        "  print(f\"Indicaciones extra:\")\n",
        "  for ind in opciones[3::]:\n",
        "    print(f\"\\t {ind}\")\n",
        "\n",
        "comanda(\"Sopa\",\"Tortas de milanesa\",\"Platanos asados\")\n",
        "print(\"-------\")\n",
        "comanda(\"Sopa\",\"Tortas de milanesa\",)\n",
        "print(\"-------\")\n",
        "comanda_2(\"Sopa\",\"Tortas de milanesa\",\"Tarta de limon\",\"Traer Agua de Limon\",\"Con servilletas\")\n"
      ],
      "execution_count": 60,
      "outputs": [
        {
          "output_type": "stream",
          "text": [
            "De entrada pidio: Sopa\n",
            "De plato fuerte pidio: Tortas de milanesa\n",
            "De postre pidio: Platanos asados\n",
            "-------\n",
            "De entrada pidio: Sopa\n",
            "De plato fuerte pidio: Tortas de milanesa\n",
            "De postre pidio: Galleta de Animalito\n",
            "-------\n",
            "('Sopa', 'Tortas de milanesa', 'Tarta de limon', 'Traer Agua de Limon', 'Con servilletas')\n",
            "De entrada pidio: Sopa\n",
            "De plato fuerte pidio: Tortas de milanesa\n",
            "De postre pidio: Tarta de limon\n",
            "Indicaciones extra:\n",
            "\t Traer Agua de Limon\n",
            "\t Con servilletas\n"
          ],
          "name": "stdout"
        }
      ]
    },
    {
      "cell_type": "code",
      "metadata": {
        "id": "8ELNzUL4B2kk",
        "outputId": "6cbcd275-2b9a-49b0-bc7b-d1b667554b22",
        "colab": {
          "base_uri": "https://localhost:8080/",
          "height": 119
        }
      },
      "source": [
        "#argumentos posicionales con diccionarios **\n",
        "def comanda_3(**opciones):\n",
        "  print(opciones)\n",
        "  for op in opciones.items():\n",
        "    print(f\"{op[0]} --> {op[1]}\")\n",
        "\n",
        "comanda_3(primer=\"Sopa\",fuerte=\"Tortas de milanesa\",postre=\"Tarta de limon\",extra1=\"Traer Agua de Limon\",extra2=\"Con servilletas\")"
      ],
      "execution_count": 63,
      "outputs": [
        {
          "output_type": "stream",
          "text": [
            "{'primer': 'Sopa', 'fuerte': 'Tortas de milanesa', 'postre': 'Tarta de limon', 'extra1': 'Traer Agua de Limon', 'extra2': 'Con servilletas'}\n",
            "primer --> Sopa\n",
            "fuerte --> Tortas de milanesa\n",
            "postre --> Tarta de limon\n",
            "extra1 --> Traer Agua de Limon\n",
            "extra2 --> Con servilletas\n"
          ],
          "name": "stdout"
        }
      ]
    }
  ]
}